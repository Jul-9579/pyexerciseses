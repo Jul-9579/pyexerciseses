{
 "cells": [
  {
   "cell_type": "code",
   "execution_count": 13,
   "metadata": {},
   "outputs": [
    {
     "name": "stdout",
     "output_type": "stream",
     "text": [
      "Julien\n"
     ]
    }
   ],
   "source": [
    "# Exercise 1\n",
    "my_name= \"Julien\"\n",
    "print (my_name)"
   ]
  },
  {
   "cell_type": "code",
   "execution_count": 25,
   "metadata": {},
   "outputs": [
    {
     "name": "stdout",
     "output_type": "stream",
     "text": [
      "Julien\n"
     ]
    }
   ],
   "source": [
    "# Exercise 2\n",
    "my_age= 45\n",
    "print (my_name)"
   ]
  },
  {
   "cell_type": "code",
   "execution_count": 26,
   "metadata": {},
   "outputs": [
    {
     "name": "stdout",
     "output_type": "stream",
     "text": [
      "13\n"
     ]
    }
   ],
   "source": [
    "# Exercise 3\n",
    "julia_age= 32\n",
    "age_diff= my_age - julia_age\n",
    "print(age_diff)"
   ]
  },
  {
   "cell_type": "code",
   "execution_count": 27,
   "metadata": {},
   "outputs": [
    {
     "name": "stdout",
     "output_type": "stream",
     "text": [
      "You're older than 21\n"
     ]
    }
   ],
   "source": [
    "# Exercise 4\n",
    "if my_age > 21:\n",
    "    print (\"You're older than 21\")\n",
    "else:\n",
    "    print (\"You're not older than 21\")"
   ]
  },
  {
   "cell_type": "code",
   "execution_count": 35,
   "metadata": {},
   "outputs": [
    {
     "name": "stdout",
     "output_type": "stream",
     "text": [
      "You're older than Julia\n"
     ]
    }
   ],
   "source": [
    "# Exercise 5\n",
    "my_age = 45\n",
    "julia_age = 32\n",
    "if my_age > julia_age:\n",
    "    print (\"You're older than Julia\")\n",
    "elif my_age == julia_age:\n",
    "    print (\"You're the same age as Julia\")\n",
    "if my_age < julia_age:\n",
    "    print (\"You're younger than Julia\")"
   ]
  },
  {
   "cell_type": "code",
   "execution_count": 5,
   "metadata": {},
   "outputs": [
    {
     "name": "stdout",
     "output_type": "stream",
     "text": [
      "['Emily', 'Gökce', 'Jost', 'Julien', 'Katha', 'Lucas', 'Marc', 'Muayad', 'Raul', 'Tiba']\n",
      "Emily\n",
      "Tiba\n",
      "Emily\n",
      "Gökce\n",
      "Jost\n",
      "Julien\n",
      "Katha\n",
      "Lucas\n",
      "Marc\n",
      "Muayad\n",
      "Raul\n",
      "Tiba\n"
     ]
    }
   ],
   "source": [
    "# Excercise 6\n",
    "team = [\"Tiba\", \"Katha\", \"Gökce\", \"Marc\", \"Julien\", \"Emily\", \"Muayad\", \"Raul\", \"Lucas\", \"Jost\"]\n",
    "team.sort()\n",
    "print(team)\n",
    "print(team[0])\n",
    "print(team[-1])\n",
    "for x in team:\n",
    "    print(x)\n"
   ]
  },
  {
   "cell_type": "code",
   "execution_count": 5,
   "metadata": {},
   "outputs": [
    {
     "name": "stdout",
     "output_type": "stream",
     "text": [
      "45\n",
      "43\n",
      "50\n",
      "35\n",
      "38\n",
      "12\n",
      "10\n",
      "100\n"
     ]
    }
   ],
   "source": [
    "# Exercise 7\n",
    "team_ages = (45, 43, 50, 35, 38, 12, 10, 100)\n",
    "for x in team_ages:\n",
    "    print(x)\n"
   ]
  },
  {
   "cell_type": "code",
   "execution_count": 264,
   "metadata": {},
   "outputs": [
    {
     "name": "stdout",
     "output_type": "stream",
     "text": [
      "50\n",
      "38\n",
      "12\n",
      "10\n",
      "100\n"
     ]
    }
   ],
   "source": [
    "\n",
    "team_ages = (45, 43, 50, 35, 38, 12, 10, 100)\n",
    "for x in team_ages:\n",
    "    if x % 2 == 0:\n",
    "        print(x)\n"
   ]
  },
  {
   "cell_type": "code",
   "execution_count": 265,
   "metadata": {},
   "outputs": [
    {
     "name": "stdout",
     "output_type": "stream",
     "text": [
      "24\n"
     ]
    }
   ],
   "source": [
    "# Exercise 8\n",
    "number_list = (24, 34, 56, 78, 90, 58)\n",
    "lowest = min(number_list)\n",
    "print(lowest)"
   ]
  },
  {
   "cell_type": "code",
   "execution_count": 266,
   "metadata": {},
   "outputs": [
    {
     "name": "stdout",
     "output_type": "stream",
     "text": [
      "90\n"
     ]
    }
   ],
   "source": [
    "# Exercise 9\n",
    "highest = max(number_list)\n",
    "print(highest)"
   ]
  },
  {
   "cell_type": "code",
   "execution_count": 267,
   "metadata": {},
   "outputs": [
    {
     "name": "stdout",
     "output_type": "stream",
     "text": [
      "26\n",
      "30\n",
      "20\n",
      "15\n",
      "18\n",
      "19\n",
      "31\n",
      "29\n",
      "46\n",
      "17\n"
     ]
    }
   ],
   "source": [
    "year_birth = [1999, 1995, 2005, 2010, 2007, 2006, 1994, 1996, 1979, 2008]\n",
    "for x in year_birth:\n",
    "    print (2025-x)"
   ]
  },
  {
   "cell_type": "code",
   "execution_count": 595,
   "metadata": {},
   "outputs": [
    {
     "name": "stdout",
     "output_type": "stream",
     "text": [
      "Bob is 26 years old\n",
      "Jack is 30 years old\n",
      "Lisa is 20 years old\n",
      "Maria is 15 years old\n",
      "Ben is 18 years old\n",
      "Emma is 19 years old\n",
      "Oscar is 31 years old\n",
      "Amy is 29 years old\n",
      "Paul is 46 years old\n",
      "Etta is 17 years old\n"
     ]
    }
   ],
   "source": [
    "# Exercise 11\n",
    "customer_list = [\n",
    "    {\"name\": \"Bob\", \"age\": 1999},\n",
    "    {\"name\": \"Jack\", \"age\": 1995},\n",
    "    {\"name\": \"Lisa\", \"age\": 2005},\n",
    "    {\"name\": \"Maria\", \"age\": 2010},\n",
    "    {\"name\": \"Ben\", \"age\": 2007},\n",
    "    {\"name\": \"Emma\", \"age\": 2006},\n",
    "    {\"name\": \"Oscar\", \"age\": 1994},\n",
    "    {\"name\": \"Amy\", \"age\": 1996},\n",
    "    {\"name\": \"Paul\", \"age\": 1979},\n",
    "    {\"name\": \"Etta\", \"age\": 2008}\n",
    "    ] \n",
    "for  item in customer_list:\n",
    "    # print(customer_list.items)\n",
    "    # print(item.values())\n",
    "    # print(item[\"name\"],2025-item[\"age\"])\n",
    "    print(f\"{item[\"name\"]} is {2025-item[\"age\"]} years old\")\n",
    "    \n",
    "\n",
    "\n"
   ]
  },
  {
   "cell_type": "code",
   "execution_count": 571,
   "metadata": {},
   "outputs": [
    {
     "name": "stdout",
     "output_type": "stream",
     "text": [
      "20\n",
      "24\n",
      "14\n",
      "12\n",
      "13\n",
      "25\n",
      "23\n",
      "11\n"
     ]
    }
   ],
   "source": [
    "# Exercise 12\n",
    "ages = [20, 24, 14, 9, 12, 13, 25, 23, 40, 11]\n",
    "for x in ages:\n",
    "    if x == max(ages):\n",
    "        continue\n",
    "    if x == min(ages):\n",
    "        continue\n",
    "    else:\n",
    "        print(x)\n"
   ]
  },
  {
   "cell_type": "code",
   "execution_count": 572,
   "metadata": {},
   "outputs": [
    {
     "name": "stdout",
     "output_type": "stream",
     "text": [
      "20\n",
      "24\n",
      "14\n",
      "12\n",
      "13\n",
      "25\n",
      "23\n",
      "11\n"
     ]
    }
   ],
   "source": [
    "ages = [20, 24, 14, 9, 12, 13, 25, 23, 40, 11]\n",
    "ages.remove(max(ages))\n",
    "ages.remove(min(ages))\n",
    "for x in ages:\n",
    "    print(x)"
   ]
  },
  {
   "cell_type": "code",
   "execution_count": 597,
   "metadata": {},
   "outputs": [
    {
     "name": "stdout",
     "output_type": "stream",
     "text": [
      "[11, 12, 13, 14, 20, 23, 24, 25]\n"
     ]
    }
   ],
   "source": [
    "# Exercise 12\n",
    "ages = [20, 24, 14, 9, 12, 13, 25, 23, 40, 11]\n",
    "ages.sort()\n",
    "print(ages[1:-1])"
   ]
  },
  {
   "cell_type": "code",
   "execution_count": 29,
   "metadata": {},
   "outputs": [
    {
     "name": "stdout",
     "output_type": "stream",
     "text": [
      "13\n",
      "15\n",
      "19\n",
      "18\n",
      "10\n",
      "16\n"
     ]
    }
   ],
   "source": [
    "# Exercise 13\n",
    "berlin = [15, 13, 16, 18, 19, 10, 12 ]\n",
    "munich = [7, 13, 15, 20, 19, 18, 10, 16]\n",
    "# print(len(berlin_munich))\n",
    "# myset = set (berlin_munich)\n",
    "# print(len(berlin_munich))\n",
    "# berlin_munich = list(dict.fromkeys(berlin_munich))\n",
    "# print(set(berlin).intersection(munich))\n",
    "# munich_berlin = berlin + munich\n",
    "\n",
    "for x in berlin and munich:\n",
    "    if x in berlin and munich:\n",
    "            print(x)\n"
   ]
  },
  {
   "cell_type": "code",
   "execution_count": 32,
   "metadata": {},
   "outputs": [
    {
     "name": "stdout",
     "output_type": "stream",
     "text": [
      "[15, 13, 16, 18, 19, 10]\n"
     ]
    }
   ],
   "source": [
    "# Exercise 14\n",
    "mylist = [15, 13, 16, 18, 19, 15, 10]\n",
    "# for x in set(mylist):\n",
    "# print(x)\n",
    "mylist = list( dict.fromkeys(mylist))\n",
    "print(mylist)\n",
    "        "
   ]
  },
  {
   "cell_type": "code",
   "execution_count": 36,
   "metadata": {},
   "outputs": [
    {
     "name": "stdout",
     "output_type": "stream",
     "text": [
      "Welcome Jost, have a nice day!\n",
      "Welcome Evelyn, have a nice day!\n"
     ]
    }
   ],
   "source": [
    "# Exercise 15\n",
    "def welcome(name):\n",
    "    if name == \"Evelyn\":\n",
    "      print(\"Welcome Evelyn, have a nice day!\")\n",
    "    if name == \"Jost\":\n",
    "      print('Welcome Jost, have a nice day!')\n",
    "\n",
    "welcome(\"Jost\")\n",
    "welcome(\"Evelyn\")\n"
   ]
  },
  {
   "cell_type": "code",
   "execution_count": 577,
   "metadata": {},
   "outputs": [
    {
     "data": {
      "text/plain": [
       "2"
      ]
     },
     "execution_count": 577,
     "metadata": {},
     "output_type": "execute_result"
    }
   ],
   "source": [
    "# Exercise 16\n",
    "def get_length(word):\n",
    "    return len(word)\n",
    "\n",
    "get_length(\"Hi\")\n",
    "\n"
   ]
  },
  {
   "cell_type": "code",
   "execution_count": 37,
   "metadata": {},
   "outputs": [
    {
     "name": "stdout",
     "output_type": "stream",
     "text": [
      "No\n"
     ]
    }
   ],
   "source": [
    "# Exercise 17\n",
    "def check_even(number):\n",
    "    if number % 2 == 0:\n",
    "        return (\"Yes\")\n",
    "    else:\n",
    "        return (\"No\")\n",
    "\n",
    "print(check_even(5))"
   ]
  },
  {
   "cell_type": "code",
   "execution_count": 600,
   "metadata": {},
   "outputs": [
    {
     "name": "stdout",
     "output_type": "stream",
     "text": [
      "Paul is 26 years old\n",
      "Etienne is 30 years old\n",
      "Lucien is 20 years old\n",
      "Stéphane is 15 years old\n"
     ]
    }
   ],
   "source": [
    "# Exercise 18\n",
    "    # Definition for Exercise 11\n",
    "\n",
    "customer_list = [\n",
    "    {\"name\": \"Bob\", \"age\": 1999},\n",
    "    {\"name\": \"Jack\", \"age\": 1995},\n",
    "    {\"name\": \"Lisa\", \"age\": 2005},\n",
    "    {\"name\": \"Maria\", \"age\": 2010},\n",
    "    {\"name\": \"Ben\", \"age\": 2007},\n",
    "    {\"name\": \"Emma\", \"age\": 2006},\n",
    "    {\"name\": \"Oscar\", \"age\": 1994},\n",
    "    {\"name\": \"Amy\", \"age\": 1996},\n",
    "    {\"name\": \"Paul\", \"age\": 1979},\n",
    "    {\"name\": \"Etta\", \"age\": 2008}\n",
    "    ] \n",
    "\n",
    "# for  item in customer_list:\n",
    "#     # print(customer_list.items)\n",
    "#     # print(item.values())\n",
    "#     # print(item[\"name\"],2025-item[\"age\"])\n",
    "#     print(f\"{item[\"name\"]} is {2025-item[\"age\"]} years old\")\n",
    "\n",
    "\n",
    "def check_name_age (customer_info):\n",
    "    for  item in customer_info:\n",
    "        print(f\"{item[\"name\"]} is {2025-item[\"age\"]} years old\")\n",
    "\n",
    "\n",
    "customer_info_1 = [\n",
    "    {\"name\": \"Paul\", \"age\": 1999},\n",
    "    {\"name\": \"Etienne\", \"age\": 1995},\n",
    "    {\"name\": \"Lucien\", \"age\": 2005},\n",
    "    {\"name\": \"Stéphane\", \"age\": 2010},\n",
    "]\n",
    "    \n",
    "check_name_age (customer_info_1)"
   ]
  },
  {
   "cell_type": "code",
   "execution_count": 594,
   "metadata": {},
   "outputs": [
    {
     "name": "stdout",
     "output_type": "stream",
     "text": [
      "[2]\n"
     ]
    }
   ],
   "source": [
    "    # Definition for Exercise 12\n",
    "def remove_ages(list):\n",
    "    list.sort()\n",
    "    print(list[1:-1])\n",
    "    # print(list[0-1])\n",
    "    \n",
    "new_age = [3, 2, 1]\n",
    "\n",
    "remove_ages(new_age)"
   ]
  },
  {
   "cell_type": "code",
   "execution_count": 31,
   "metadata": {},
   "outputs": [
    {
     "name": "stdout",
     "output_type": "stream",
     "text": [
      "13\n",
      "15\n",
      "19\n",
      "18\n",
      "10\n",
      "16\n"
     ]
    }
   ],
   "source": [
    "# Definition for Exercise 13\n",
    "berlin = [15, 13, 16, 18, 19, 10, 12 ]\n",
    "munich = [7, 13, 15, 20, 19, 18, 10, 16]\n",
    "# berlin_munich = berlin + munich\n",
    "# print(set(berlin).intersection(munich))\n",
    "\n",
    "def common_ages (list_a,list_b):\n",
    "    for x in list_a and list_b:\n",
    "        if x in list_a and list_b:\n",
    "            print(x)\n",
    "\n",
    "common_ages(berlin,munich)"
   ]
  },
  {
   "cell_type": "code",
   "execution_count": 19,
   "metadata": {},
   "outputs": [
    {
     "name": "stdout",
     "output_type": "stream",
     "text": [
      "66\n",
      "90\n",
      "12\n",
      "45\n"
     ]
    }
   ],
   "source": [
    "# Definition for exercise 14\n",
    "this_list = [15, 13, 16, 18, 19, 15, 10]\n",
    "that_list = [12, 45, 66, 66, 66, 12, 45, 90]\n",
    "\n",
    "def remove_duplicates(list):\n",
    "    for x in set(list):\n",
    "        print(x)\n",
    "\n",
    "remove_duplicates(that_list)\n"
   ]
  },
  {
   "cell_type": "code",
   "execution_count": 40,
   "metadata": {},
   "outputs": [
    {
     "data": {
      "text/plain": [
       "True"
      ]
     },
     "execution_count": 40,
     "metadata": {},
     "output_type": "execute_result"
    }
   ],
   "source": [
    "new_list= (12, 36, 45, 78, 89)\n",
    "def list_check(num,mylist):\n",
    "    if num in mylist:\n",
    "        return True\n",
    "        # print(\"Value is in the list\")\n",
    "    else:\n",
    "        return False\n",
    "        # print(\"Value is not in the list\")\n",
    "\n",
    "list_check(12,new_list)"
   ]
  }
 ],
 "metadata": {
  "kernelspec": {
   "display_name": "base",
   "language": "python",
   "name": "python3"
  },
  "language_info": {
   "codemirror_mode": {
    "name": "ipython",
    "version": 3
   },
   "file_extension": ".py",
   "mimetype": "text/x-python",
   "name": "python",
   "nbconvert_exporter": "python",
   "pygments_lexer": "ipython3",
   "version": "3.12.7"
  }
 },
 "nbformat": 4,
 "nbformat_minor": 2
}
